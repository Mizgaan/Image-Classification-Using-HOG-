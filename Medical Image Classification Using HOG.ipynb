{
 "cells": [
  {
   "cell_type": "code",
   "execution_count": 66,
   "id": "732dd19c",
   "metadata": {},
   "outputs": [],
   "source": [
    "import os\n",
    "import numpy as np\n",
    "import pandas as pd\n",
    "import cv2 as cv\n",
    "import cv2 \n",
    "from pathlib import Path\n",
    "import warnings\n",
    "from skimage.feature import hog\n",
    "import tqdm\n",
    "from sklearn.neighbors import KNeighborsClassifier\n",
    "from sklearn import metrics\n",
    "from sklearn.model_selection import train_test_split\n",
    "from sklearn.preprocessing import MinMaxScaler\n",
    "from sklearn.neighbors import NearestNeighbors\n",
    "warnings.filterwarnings(\"ignore\")\n",
    "##Display all the columns in Data Frame\n",
    "# %matplotlib\n",
    "\n",
    "\n",
    "import matplotlib.pyplot as plt\n",
    "pd.pandas.set_option('display.max_columns',None)"
   ]
  },
  {
   "cell_type": "code",
   "execution_count": 6,
   "id": "09f38be6",
   "metadata": {},
   "outputs": [],
   "source": [
    "# !pip install scikit-image\n",
    "# !pip install tqdm\n"
   ]
  },
  {
   "cell_type": "markdown",
   "id": "fc884a93",
   "metadata": {},
   "source": [
    "## Training and validation set from the Images"
   ]
  },
  {
   "cell_type": "code",
   "execution_count": 30,
   "id": "74b6fb6e",
   "metadata": {},
   "outputs": [],
   "source": [
    "img_size=180\n",
    "\n",
    "EOSINOPHIL_img=  r'C:\\Users\\Mizgaan Masani\\Downloads\\Image_ML\\EOSINOPHIL'\n",
    "LYMPHOCYTE_img=r'C:\\Users\\Mizgaan Masani\\Downloads\\Image_ML\\LYMPHOCYTE'\n",
    "MONOCYTE_img=r'C:\\Users\\Mizgaan Masani\\Downloads\\Image_ML\\MONOCYTE'\n",
    "NEUTROPHIL_img=  r'C:\\Users\\Mizgaan Masani\\Downloads\\Image_ML\\NEUTROPHIL'\n"
   ]
  },
  {
   "cell_type": "code",
   "execution_count": 10,
   "id": "b9569d9d",
   "metadata": {},
   "outputs": [],
   "source": [
    "# Preprocessing training Set\n",
    "from keras.preprocessing.image import ImageDataGenerator"
   ]
  },
  {
   "cell_type": "code",
   "execution_count": 11,
   "id": "a534bbd6",
   "metadata": {},
   "outputs": [
    {
     "name": "stdout",
     "output_type": "stream",
     "text": [
      "Found 278 images belonging to 4 classes.\n"
     ]
    }
   ],
   "source": [
    "train_data_gen=ImageDataGenerator(rescale=1/255, shear_range=0.2,\n",
    "                   zoom_range=0.2,horizontal_flip=True)\n",
    "\n",
    "train_set=train_data_gen.flow_from_directory(r'C:\\Users\\Mizgaan Masani\\Downloads\\Image_ML',\n",
    "                                   target_size=(64,64),batch_size=32,class_mode='categorical')\n"
   ]
  },
  {
   "cell_type": "code",
   "execution_count": 96,
   "id": "1d780053",
   "metadata": {},
   "outputs": [],
   "source": [
    "# c=(os.listdir(r'C:\\Users\\Mizgaan Masani\\Downloads\\Image_ML\\EOSINOPHIL')[8])\n",
    "# a=os.path.join(r'C:\\Users\\Mizgaan Masani\\Downloads\\Image_ML\\EOSINOPHIL',c)\n",
    "# i=cv.imread(a)\n",
    "# #(r'C:\\Users\\Mizgaan Masani\\Downloads\\Image_ML\\EOSINOPHIL\\BloodImage_00041.jpg')\n",
    "# # print(c)\n",
    "# plt.imshow(i)\n",
    "# plt.show()"
   ]
  },
  {
   "cell_type": "code",
   "execution_count": 44,
   "id": "f61394dd",
   "metadata": {},
   "outputs": [],
   "source": [
    "from tqdm.notebook import tqdm_notebook\n",
    "# for i in tqdm_notebook (os.listdir(r'C:\\Users\\Mizgaan Masani\\Downloads\\Image_ML\\MONOCYTE')):\n",
    "#     i"
   ]
  },
  {
   "cell_type": "code",
   "execution_count": 45,
   "id": "70c8739f",
   "metadata": {},
   "outputs": [
    {
     "data": {
      "application/vnd.jupyter.widget-view+json": {
       "model_id": "1d2bbebce4a443079647118f142457c4",
       "version_major": 2,
       "version_minor": 0
      },
      "text/plain": [
       "  0%|          | 0/75 [00:00<?, ?it/s]"
      ]
     },
     "metadata": {},
     "output_type": "display_data"
    },
    {
     "ename": "error",
     "evalue": "OpenCV(4.5.5) D:\\a\\opencv-python\\opencv-python\\opencv\\modules\\imgproc\\src\\resize.cpp:4052: error: (-215:Assertion failed) !ssize.empty() in function 'cv::resize'\n",
     "output_type": "error",
     "traceback": [
      "\u001b[1;31m---------------------------------------------------------------------------\u001b[0m",
      "\u001b[1;31merror\u001b[0m                                     Traceback (most recent call last)",
      "\u001b[1;32m~\\AppData\\Local\\Temp\\ipykernel_26684\\1929165205.py\u001b[0m in \u001b[0;36m<module>\u001b[1;34m\u001b[0m\n\u001b[0;32m      6\u001b[0m     \u001b[0mpath\u001b[0m \u001b[1;33m=\u001b[0m \u001b[0mos\u001b[0m\u001b[1;33m.\u001b[0m\u001b[0mpath\u001b[0m\u001b[1;33m.\u001b[0m\u001b[0mjoin\u001b[0m\u001b[1;33m(\u001b[0m\u001b[1;34mr'C:\\Users\\Mizgaan Masani\\Downloads\\Image_ML\\EOSINOPHIL'\u001b[0m\u001b[1;33m,\u001b[0m\u001b[0mimg\u001b[0m\u001b[1;33m)\u001b[0m   \u001b[1;31m# create path to the image\u001b[0m\u001b[1;33m\u001b[0m\u001b[1;33m\u001b[0m\u001b[0m\n\u001b[0;32m      7\u001b[0m     \u001b[0mimg\u001b[0m \u001b[1;33m=\u001b[0m \u001b[0mcv2\u001b[0m\u001b[1;33m.\u001b[0m\u001b[0mimread\u001b[0m\u001b[1;33m(\u001b[0m\u001b[0mpath\u001b[0m\u001b[1;33m,\u001b[0m\u001b[0mcv2\u001b[0m\u001b[1;33m.\u001b[0m\u001b[0mIMREAD_GRAYSCALE\u001b[0m\u001b[1;33m)\u001b[0m   \u001b[1;31m# to load a color image\u001b[0m\u001b[1;33m\u001b[0m\u001b[1;33m\u001b[0m\u001b[0m\n\u001b[1;32m----> 8\u001b[1;33m     \u001b[0mimg\u001b[0m \u001b[1;33m=\u001b[0m \u001b[0mcv2\u001b[0m\u001b[1;33m.\u001b[0m\u001b[0mresize\u001b[0m\u001b[1;33m(\u001b[0m\u001b[0mimg\u001b[0m\u001b[1;33m,\u001b[0m \u001b[1;33m(\u001b[0m\u001b[0mimg_size\u001b[0m\u001b[1;33m,\u001b[0m\u001b[0mimg_size\u001b[0m\u001b[1;33m)\u001b[0m\u001b[1;33m)\u001b[0m \u001b[1;31m# resize to normalize data size\u001b[0m\u001b[1;33m\u001b[0m\u001b[1;33m\u001b[0m\u001b[0m\n\u001b[0m\u001b[0;32m      9\u001b[0m     \u001b[0mlabel\u001b[0m\u001b[1;33m=\u001b[0m\u001b[1;34m\"EOSINOPHIL\"\u001b[0m\u001b[1;33m\u001b[0m\u001b[1;33m\u001b[0m\u001b[0m\n\u001b[0;32m     10\u001b[0m     \u001b[0mall_train\u001b[0m\u001b[1;33m.\u001b[0m\u001b[0mappend\u001b[0m\u001b[1;33m(\u001b[0m\u001b[0mnp\u001b[0m\u001b[1;33m.\u001b[0m\u001b[0marray\u001b[0m\u001b[1;33m(\u001b[0m\u001b[0mimg\u001b[0m\u001b[1;33m)\u001b[0m\u001b[1;33m)\u001b[0m \u001b[1;31m#Converting the image into array\u001b[0m\u001b[1;33m\u001b[0m\u001b[1;33m\u001b[0m\u001b[0m\n",
      "\u001b[1;31merror\u001b[0m: OpenCV(4.5.5) D:\\a\\opencv-python\\opencv-python\\opencv\\modules\\imgproc\\src\\resize.cpp:4052: error: (-215:Assertion failed) !ssize.empty() in function 'cv::resize'\n"
     ]
    }
   ],
   "source": [
    "# Training EOSINOPHIL Images\n",
    "all_train=[]\n",
    "training_EOSINOPHIL=[]\n",
    "labl=[]\n",
    "for img in tqdm_notebook (os.listdir(r'C:\\Users\\Mizgaan Masani\\Downloads\\Image_ML\\EOSINOPHIL')):\n",
    "    path = os.path.join(r'C:\\Users\\Mizgaan Masani\\Downloads\\Image_ML\\EOSINOPHIL',img)   # create path to the image\n",
    "    img = cv2.imread(path,cv2.IMREAD_GRAYSCALE)   # to load a color image\n",
    "    img = cv2.resize(img, (img_size,img_size)) # resize to normalize data size\n",
    "    label=\"EOSINOPHIL\"\n",
    "    all_train.append(np.array(img)) #Converting the image into array\n",
    "    training_EOSINOPHIL.append(np.array(img))\n",
    "\n",
    "    labl.append(str(label))"
   ]
  },
  {
   "cell_type": "code",
   "execution_count": 97,
   "id": "666982ff",
   "metadata": {},
   "outputs": [
    {
     "name": "stdout",
     "output_type": "stream",
     "text": [
      "No.of EOSINOPHIL Images Are:- 74\n"
     ]
    }
   ],
   "source": [
    "print('No.of EOSINOPHIL Images Are:- {}'.format((len(training_EOSINOPHIL))))"
   ]
  },
  {
   "cell_type": "code",
   "execution_count": null,
   "id": "c333fb76",
   "metadata": {},
   "outputs": [],
   "source": []
  },
  {
   "cell_type": "code",
   "execution_count": 104,
   "id": "b4898844",
   "metadata": {},
   "outputs": [
    {
     "data": {
      "application/vnd.jupyter.widget-view+json": {
       "model_id": "d60b99e7a23041f4911e013b9562658e",
       "version_major": 2,
       "version_minor": 0
      },
      "text/plain": [
       "  0%|          | 0/17 [00:00<?, ?it/s]"
      ]
     },
     "metadata": {},
     "output_type": "display_data"
    },
    {
     "ename": "error",
     "evalue": "OpenCV(4.5.5) D:\\a\\opencv-python\\opencv-python\\opencv\\modules\\imgproc\\src\\resize.cpp:4052: error: (-215:Assertion failed) !ssize.empty() in function 'cv::resize'\n",
     "output_type": "error",
     "traceback": [
      "\u001b[1;31m---------------------------------------------------------------------------\u001b[0m",
      "\u001b[1;31merror\u001b[0m                                     Traceback (most recent call last)",
      "\u001b[1;32m~\\AppData\\Local\\Temp\\ipykernel_26684\\748820170.py\u001b[0m in \u001b[0;36m<module>\u001b[1;34m\u001b[0m\n\u001b[0;32m      6\u001b[0m     \u001b[0mpath\u001b[0m \u001b[1;33m=\u001b[0m \u001b[0mos\u001b[0m\u001b[1;33m.\u001b[0m\u001b[0mpath\u001b[0m\u001b[1;33m.\u001b[0m\u001b[0mjoin\u001b[0m\u001b[1;33m(\u001b[0m\u001b[1;34mr'C:\\Users\\Mizgaan Masani\\Downloads\\Image_ML\\MONOCYTE'\u001b[0m\u001b[1;33m,\u001b[0m\u001b[0mimg\u001b[0m\u001b[1;33m)\u001b[0m   \u001b[1;31m# create path to the image\u001b[0m\u001b[1;33m\u001b[0m\u001b[1;33m\u001b[0m\u001b[0m\n\u001b[0;32m      7\u001b[0m     \u001b[0mimg\u001b[0m \u001b[1;33m=\u001b[0m \u001b[0mcv2\u001b[0m\u001b[1;33m.\u001b[0m\u001b[0mimread\u001b[0m\u001b[1;33m(\u001b[0m\u001b[0mpath\u001b[0m\u001b[1;33m,\u001b[0m\u001b[0mcv2\u001b[0m\u001b[1;33m.\u001b[0m\u001b[0mIMREAD_GRAYSCALE\u001b[0m\u001b[1;33m)\u001b[0m   \u001b[1;31m# to load a color image\u001b[0m\u001b[1;33m\u001b[0m\u001b[1;33m\u001b[0m\u001b[0m\n\u001b[1;32m----> 8\u001b[1;33m     \u001b[0mimg\u001b[0m \u001b[1;33m=\u001b[0m \u001b[0mcv2\u001b[0m\u001b[1;33m.\u001b[0m\u001b[0mresize\u001b[0m\u001b[1;33m(\u001b[0m\u001b[0mimg\u001b[0m\u001b[1;33m,\u001b[0m \u001b[1;33m(\u001b[0m\u001b[0mimg_size\u001b[0m\u001b[1;33m,\u001b[0m\u001b[0mimg_size\u001b[0m\u001b[1;33m)\u001b[0m\u001b[1;33m)\u001b[0m \u001b[1;31m# resize to normalize data size\u001b[0m\u001b[1;33m\u001b[0m\u001b[1;33m\u001b[0m\u001b[0m\n\u001b[0m\u001b[0;32m      9\u001b[0m     \u001b[0mlabel\u001b[0m\u001b[1;33m=\u001b[0m\u001b[1;34m\"MONOCYTE\"\u001b[0m\u001b[1;33m\u001b[0m\u001b[1;33m\u001b[0m\u001b[0m\n\u001b[0;32m     10\u001b[0m     \u001b[0mall_train\u001b[0m\u001b[1;33m.\u001b[0m\u001b[0mappend\u001b[0m\u001b[1;33m(\u001b[0m\u001b[0mnp\u001b[0m\u001b[1;33m.\u001b[0m\u001b[0marray\u001b[0m\u001b[1;33m(\u001b[0m\u001b[0mimg\u001b[0m\u001b[1;33m)\u001b[0m\u001b[1;33m)\u001b[0m \u001b[1;31m#Converting the image into array\u001b[0m\u001b[1;33m\u001b[0m\u001b[1;33m\u001b[0m\u001b[0m\n",
      "\u001b[1;31merror\u001b[0m: OpenCV(4.5.5) D:\\a\\opencv-python\\opencv-python\\opencv\\modules\\imgproc\\src\\resize.cpp:4052: error: (-215:Assertion failed) !ssize.empty() in function 'cv::resize'\n"
     ]
    }
   ],
   "source": [
    "# Training LYMPHOCYTE Images\n",
    "\n",
    "training_MONOCYTE=[]\n",
    "# labl=[]\n",
    "for img in tqdm_notebook (os.listdir(r'C:\\Users\\Mizgaan Masani\\Downloads\\Image_ML\\MONOCYTE')):\n",
    "    path = os.path.join(r'C:\\Users\\Mizgaan Masani\\Downloads\\Image_ML\\MONOCYTE',img)   # create path to the image\n",
    "    img = cv2.imread(path,cv2.IMREAD_GRAYSCALE)   # to load a color image\n",
    "    img = cv2.resize(img, (img_size,img_size)) # resize to normalize data size\n",
    "    label=\"MONOCYTE\"\n",
    "    all_train.append(np.array(img)) #Converting the image into array\n",
    "    training_MONOCYTE.append(np.array(img))\n",
    "\n",
    "    labl.append(str(label))"
   ]
  },
  {
   "cell_type": "code",
   "execution_count": 105,
   "id": "425bd502",
   "metadata": {},
   "outputs": [
    {
     "name": "stdout",
     "output_type": "stream",
     "text": [
      "No.of EOSINOPHIL Images Are:- 16\n"
     ]
    }
   ],
   "source": [
    "print('No.of EOSINOPHIL Images Are:- {}'.format((len(training_MONOCYTE))))"
   ]
  },
  {
   "cell_type": "code",
   "execution_count": null,
   "id": "6ec34c10",
   "metadata": {},
   "outputs": [],
   "source": []
  },
  {
   "cell_type": "code",
   "execution_count": 106,
   "id": "1c974cfb",
   "metadata": {},
   "outputs": [
    {
     "data": {
      "application/vnd.jupyter.widget-view+json": {
       "model_id": "52001d10087e456cb101ebb3d51056b0",
       "version_major": 2,
       "version_minor": 0
      },
      "text/plain": [
       "  0%|          | 0/23 [00:00<?, ?it/s]"
      ]
     },
     "metadata": {},
     "output_type": "display_data"
    },
    {
     "ename": "error",
     "evalue": "OpenCV(4.5.5) D:\\a\\opencv-python\\opencv-python\\opencv\\modules\\imgproc\\src\\resize.cpp:4052: error: (-215:Assertion failed) !ssize.empty() in function 'cv::resize'\n",
     "output_type": "error",
     "traceback": [
      "\u001b[1;31m---------------------------------------------------------------------------\u001b[0m",
      "\u001b[1;31merror\u001b[0m                                     Traceback (most recent call last)",
      "\u001b[1;32m~\\AppData\\Local\\Temp\\ipykernel_26684\\1990169392.py\u001b[0m in \u001b[0;36m<module>\u001b[1;34m\u001b[0m\n\u001b[0;32m      6\u001b[0m     \u001b[0mpath\u001b[0m \u001b[1;33m=\u001b[0m \u001b[0mos\u001b[0m\u001b[1;33m.\u001b[0m\u001b[0mpath\u001b[0m\u001b[1;33m.\u001b[0m\u001b[0mjoin\u001b[0m\u001b[1;33m(\u001b[0m\u001b[1;34mr'C:\\Users\\Mizgaan Masani\\Downloads\\Image_ML\\LYMPHOCYTE'\u001b[0m\u001b[1;33m,\u001b[0m\u001b[0mimg\u001b[0m\u001b[1;33m)\u001b[0m   \u001b[1;31m# create path to the image\u001b[0m\u001b[1;33m\u001b[0m\u001b[1;33m\u001b[0m\u001b[0m\n\u001b[0;32m      7\u001b[0m     \u001b[0mimg\u001b[0m \u001b[1;33m=\u001b[0m \u001b[0mcv2\u001b[0m\u001b[1;33m.\u001b[0m\u001b[0mimread\u001b[0m\u001b[1;33m(\u001b[0m\u001b[0mpath\u001b[0m\u001b[1;33m,\u001b[0m\u001b[0mcv2\u001b[0m\u001b[1;33m.\u001b[0m\u001b[0mIMREAD_GRAYSCALE\u001b[0m\u001b[1;33m)\u001b[0m   \u001b[1;31m# to load a color image\u001b[0m\u001b[1;33m\u001b[0m\u001b[1;33m\u001b[0m\u001b[0m\n\u001b[1;32m----> 8\u001b[1;33m     \u001b[0mimg\u001b[0m \u001b[1;33m=\u001b[0m \u001b[0mcv2\u001b[0m\u001b[1;33m.\u001b[0m\u001b[0mresize\u001b[0m\u001b[1;33m(\u001b[0m\u001b[0mimg\u001b[0m\u001b[1;33m,\u001b[0m \u001b[1;33m(\u001b[0m\u001b[0mimg_size\u001b[0m\u001b[1;33m,\u001b[0m\u001b[0mimg_size\u001b[0m\u001b[1;33m)\u001b[0m\u001b[1;33m)\u001b[0m \u001b[1;31m# resize to normalize data size\u001b[0m\u001b[1;33m\u001b[0m\u001b[1;33m\u001b[0m\u001b[0m\n\u001b[0m\u001b[0;32m      9\u001b[0m     \u001b[0mlabel\u001b[0m\u001b[1;33m=\u001b[0m\u001b[1;34m\"LYMPHOCYTE\"\u001b[0m\u001b[1;33m\u001b[0m\u001b[1;33m\u001b[0m\u001b[0m\n\u001b[0;32m     10\u001b[0m     \u001b[0mall_train\u001b[0m\u001b[1;33m.\u001b[0m\u001b[0mappend\u001b[0m\u001b[1;33m(\u001b[0m\u001b[0mnp\u001b[0m\u001b[1;33m.\u001b[0m\u001b[0marray\u001b[0m\u001b[1;33m(\u001b[0m\u001b[0mimg\u001b[0m\u001b[1;33m)\u001b[0m\u001b[1;33m)\u001b[0m \u001b[1;31m#Converting the image into array\u001b[0m\u001b[1;33m\u001b[0m\u001b[1;33m\u001b[0m\u001b[0m\n",
      "\u001b[1;31merror\u001b[0m: OpenCV(4.5.5) D:\\a\\opencv-python\\opencv-python\\opencv\\modules\\imgproc\\src\\resize.cpp:4052: error: (-215:Assertion failed) !ssize.empty() in function 'cv::resize'\n"
     ]
    }
   ],
   "source": [
    "# Training LYMPHOCYTE Images\n",
    "\n",
    "training_LYMPHOCYTE=[]\n",
    "# labl=[]\n",
    "for img in tqdm_notebook (os.listdir(r'C:\\Users\\Mizgaan Masani\\Downloads\\Image_ML\\LYMPHOCYTE')):\n",
    "    path = os.path.join(r'C:\\Users\\Mizgaan Masani\\Downloads\\Image_ML\\LYMPHOCYTE',img)   # create path to the image\n",
    "    img = cv2.imread(path,cv2.IMREAD_GRAYSCALE)   # to load a color image\n",
    "    img = cv2.resize(img, (img_size,img_size)) # resize to normalize data size\n",
    "    label=\"LYMPHOCYTE\"\n",
    "    all_train.append(np.array(img)) #Converting the image into array\n",
    "    training_LYMPHOCYTE.append(np.array(img))\n",
    "\n",
    "    labl.append(str(label))"
   ]
  },
  {
   "cell_type": "code",
   "execution_count": 108,
   "id": "5341295f",
   "metadata": {},
   "outputs": [
    {
     "name": "stdout",
     "output_type": "stream",
     "text": [
      "No.of EOSINOPHIL Images Are:- 22\n"
     ]
    }
   ],
   "source": [
    "print('No.of EOSINOPHIL Images Are:- {}'.format((len(training_LYMPHOCYTE))))"
   ]
  },
  {
   "cell_type": "code",
   "execution_count": null,
   "id": "c4f95fd8",
   "metadata": {},
   "outputs": [],
   "source": []
  },
  {
   "cell_type": "code",
   "execution_count": 109,
   "id": "cc773771",
   "metadata": {},
   "outputs": [
    {
     "data": {
      "application/vnd.jupyter.widget-view+json": {
       "model_id": "9eb9682627234490a79dfb4189db52f4",
       "version_major": 2,
       "version_minor": 0
      },
      "text/plain": [
       "  0%|          | 0/167 [00:00<?, ?it/s]"
      ]
     },
     "metadata": {},
     "output_type": "display_data"
    },
    {
     "ename": "error",
     "evalue": "OpenCV(4.5.5) D:\\a\\opencv-python\\opencv-python\\opencv\\modules\\imgproc\\src\\resize.cpp:4052: error: (-215:Assertion failed) !ssize.empty() in function 'cv::resize'\n",
     "output_type": "error",
     "traceback": [
      "\u001b[1;31m---------------------------------------------------------------------------\u001b[0m",
      "\u001b[1;31merror\u001b[0m                                     Traceback (most recent call last)",
      "\u001b[1;32m~\\AppData\\Local\\Temp\\ipykernel_26684\\354386414.py\u001b[0m in \u001b[0;36m<module>\u001b[1;34m\u001b[0m\n\u001b[0;32m      6\u001b[0m     \u001b[0mpath\u001b[0m \u001b[1;33m=\u001b[0m \u001b[0mos\u001b[0m\u001b[1;33m.\u001b[0m\u001b[0mpath\u001b[0m\u001b[1;33m.\u001b[0m\u001b[0mjoin\u001b[0m\u001b[1;33m(\u001b[0m\u001b[1;34mr'C:\\Users\\Mizgaan Masani\\Downloads\\Image_ML\\NEUTROPHIL'\u001b[0m\u001b[1;33m,\u001b[0m\u001b[0mimg\u001b[0m\u001b[1;33m)\u001b[0m   \u001b[1;31m# create path to the image\u001b[0m\u001b[1;33m\u001b[0m\u001b[1;33m\u001b[0m\u001b[0m\n\u001b[0;32m      7\u001b[0m     \u001b[0mimg\u001b[0m \u001b[1;33m=\u001b[0m \u001b[0mcv2\u001b[0m\u001b[1;33m.\u001b[0m\u001b[0mimread\u001b[0m\u001b[1;33m(\u001b[0m\u001b[0mpath\u001b[0m\u001b[1;33m,\u001b[0m\u001b[0mcv2\u001b[0m\u001b[1;33m.\u001b[0m\u001b[0mIMREAD_GRAYSCALE\u001b[0m\u001b[1;33m)\u001b[0m   \u001b[1;31m# to load a color image\u001b[0m\u001b[1;33m\u001b[0m\u001b[1;33m\u001b[0m\u001b[0m\n\u001b[1;32m----> 8\u001b[1;33m     \u001b[0mimg\u001b[0m \u001b[1;33m=\u001b[0m \u001b[0mcv2\u001b[0m\u001b[1;33m.\u001b[0m\u001b[0mresize\u001b[0m\u001b[1;33m(\u001b[0m\u001b[0mimg\u001b[0m\u001b[1;33m,\u001b[0m \u001b[1;33m(\u001b[0m\u001b[0mimg_size\u001b[0m\u001b[1;33m,\u001b[0m\u001b[0mimg_size\u001b[0m\u001b[1;33m)\u001b[0m\u001b[1;33m)\u001b[0m \u001b[1;31m# resize to normalize data size\u001b[0m\u001b[1;33m\u001b[0m\u001b[1;33m\u001b[0m\u001b[0m\n\u001b[0m\u001b[0;32m      9\u001b[0m     \u001b[0mlabel\u001b[0m\u001b[1;33m=\u001b[0m\u001b[1;34m\"NEUTROPHIL\"\u001b[0m\u001b[1;33m\u001b[0m\u001b[1;33m\u001b[0m\u001b[0m\n\u001b[0;32m     10\u001b[0m     \u001b[0mall_train\u001b[0m\u001b[1;33m.\u001b[0m\u001b[0mappend\u001b[0m\u001b[1;33m(\u001b[0m\u001b[0mnp\u001b[0m\u001b[1;33m.\u001b[0m\u001b[0marray\u001b[0m\u001b[1;33m(\u001b[0m\u001b[0mimg\u001b[0m\u001b[1;33m)\u001b[0m\u001b[1;33m)\u001b[0m \u001b[1;31m#Converting the image into array\u001b[0m\u001b[1;33m\u001b[0m\u001b[1;33m\u001b[0m\u001b[0m\n",
      "\u001b[1;31merror\u001b[0m: OpenCV(4.5.5) D:\\a\\opencv-python\\opencv-python\\opencv\\modules\\imgproc\\src\\resize.cpp:4052: error: (-215:Assertion failed) !ssize.empty() in function 'cv::resize'\n"
     ]
    }
   ],
   "source": [
    "# Training LYMPHOCYTE Images\n",
    "\n",
    "training_NEUTROPHIL=[]\n",
    "# labl=[]\n",
    "for img in tqdm_notebook (os.listdir(r'C:\\Users\\Mizgaan Masani\\Downloads\\Image_ML\\NEUTROPHIL')):\n",
    "    path = os.path.join(r'C:\\Users\\Mizgaan Masani\\Downloads\\Image_ML\\NEUTROPHIL',img)   # create path to the image\n",
    "    img = cv2.imread(path,cv2.IMREAD_GRAYSCALE)   # to load a color image\n",
    "    img = cv2.resize(img, (img_size,img_size)) # resize to normalize data size\n",
    "    label=\"NEUTROPHIL\"\n",
    "    all_train.append(np.array(img)) #Converting the image into array\n",
    "    training_NEUTROPHIL.append(np.array(img))\n",
    "\n",
    "    labl.append(str(label))"
   ]
  },
  {
   "cell_type": "code",
   "execution_count": 110,
   "id": "27571b76",
   "metadata": {},
   "outputs": [
    {
     "name": "stdout",
     "output_type": "stream",
     "text": [
      "No.of EOSINOPHIL Images Are:- 166\n"
     ]
    }
   ],
   "source": [
    "print('No.of EOSINOPHIL Images Are:- {}'.format((len(training_NEUTROPHIL))))"
   ]
  },
  {
   "cell_type": "code",
   "execution_count": null,
   "id": "d88e31eb",
   "metadata": {},
   "outputs": [],
   "source": []
  },
  {
   "cell_type": "code",
   "execution_count": 129,
   "id": "77b755dd",
   "metadata": {},
   "outputs": [
    {
     "data": {
      "text/plain": [
       "396"
      ]
     },
     "execution_count": 129,
     "metadata": {},
     "output_type": "execute_result"
    }
   ],
   "source": [
    "len(labl)"
   ]
  },
  {
   "cell_type": "code",
   "execution_count": 128,
   "id": "a4ea0138",
   "metadata": {},
   "outputs": [],
   "source": [
    "# plt.imshow(hog_features[0])"
   ]
  },
  {
   "cell_type": "code",
   "execution_count": 119,
   "id": "e4efdbe7",
   "metadata": {},
   "outputs": [
    {
     "data": {
      "application/vnd.jupyter.widget-view+json": {
       "model_id": "4cf0afab48a94f5999abdfb910438ea0",
       "version_major": 2,
       "version_minor": 0
      },
      "text/plain": [
       "  0%|          | 0/396 [00:00<?, ?it/s]"
      ]
     },
     "metadata": {},
     "output_type": "display_data"
    },
    {
     "data": {
      "text/plain": [
       "(396, 14112)"
      ]
     },
     "execution_count": 119,
     "metadata": {},
     "output_type": "execute_result"
    }
   ],
   "source": [
    "#HOG Descriptor\n",
    "#Returns a 1D vector for an image\n",
    "ppcr = 8\n",
    "ppcc = 8\n",
    "hog_images = []\n",
    "hog_features = []\n",
    "for image in tqdm_notebook(all_train):\n",
    "    blur = cv.GaussianBlur(image,(5,5),0) #Gaussian Filtering\n",
    "    fd,hog_image = hog(blur, orientations=8, pixels_per_cell=(ppcr,ppcc),cells_per_block=(2,2),block_norm= \"L2\",visualize=True)\n",
    "    hog_images.append(hog_image)\n",
    "    hog_features.append(fd)\n",
    "hog_features = np.array(hog_features)\n",
    "hog_features.shape"
   ]
  },
  {
   "cell_type": "code",
   "execution_count": 147,
   "id": "69f3c10c",
   "metadata": {},
   "outputs": [],
   "source": []
  },
  {
   "cell_type": "code",
   "execution_count": 131,
   "id": "be554ea7",
   "metadata": {},
   "outputs": [
    {
     "data": {
      "text/plain": [
       "<matplotlib.image.AxesImage at 0x1eec3fb0bc8>"
      ]
     },
     "execution_count": 131,
     "metadata": {},
     "output_type": "execute_result"
    }
   ],
   "source": [
    "plt.imshow(hog_images[51])"
   ]
  },
  {
   "cell_type": "code",
   "execution_count": 132,
   "id": "f063327e",
   "metadata": {},
   "outputs": [
    {
     "data": {
      "text/plain": [
       "'EOSINOPHIL'"
      ]
     },
     "execution_count": 132,
     "metadata": {},
     "output_type": "execute_result"
    }
   ],
   "source": [
    "labl[51]"
   ]
  },
  {
   "cell_type": "code",
   "execution_count": 139,
   "id": "0ea396ae",
   "metadata": {},
   "outputs": [],
   "source": [
    "from sklearn import preprocessing"
   ]
  },
  {
   "cell_type": "code",
   "execution_count": 140,
   "id": "9decedc4",
   "metadata": {},
   "outputs": [],
   "source": [
    "# labl_enc=LabelEncoder.fit_transform(labl)\n",
    "le=preprocessing.LabelEncoder()"
   ]
  },
  {
   "cell_type": "code",
   "execution_count": 144,
   "id": "62c1d9c5",
   "metadata": {},
   "outputs": [],
   "source": [
    "labl_enc=le.fit_transform(labl)"
   ]
  },
  {
   "cell_type": "code",
   "execution_count": 145,
   "id": "6eaac060",
   "metadata": {},
   "outputs": [
    {
     "data": {
      "text/plain": [
       "(396,)"
      ]
     },
     "execution_count": 145,
     "metadata": {},
     "output_type": "execute_result"
    }
   ],
   "source": [
    "labl_enc.shape"
   ]
  },
  {
   "cell_type": "code",
   "execution_count": 148,
   "id": "1ffe7dff",
   "metadata": {},
   "outputs": [],
   "source": [
    "X_train, X_test, y_train, y_test = train_test_split(hog_features,labl_enc,test_size=0.2)"
   ]
  },
  {
   "cell_type": "code",
   "execution_count": 149,
   "id": "1986526f",
   "metadata": {},
   "outputs": [
    {
     "data": {
      "text/plain": [
       "(316, 14112)"
      ]
     },
     "execution_count": 149,
     "metadata": {},
     "output_type": "execute_result"
    }
   ],
   "source": [
    "X_train.shape"
   ]
  },
  {
   "cell_type": "code",
   "execution_count": 150,
   "id": "0928bc90",
   "metadata": {},
   "outputs": [
    {
     "data": {
      "text/plain": [
       "(316,)"
      ]
     },
     "execution_count": 150,
     "metadata": {},
     "output_type": "execute_result"
    }
   ],
   "source": [
    "y_train.shape"
   ]
  },
  {
   "cell_type": "markdown",
   "id": "141c0311",
   "metadata": {},
   "source": [
    "## Making Model"
   ]
  },
  {
   "cell_type": "code",
   "execution_count": 153,
   "id": "9787e7a4",
   "metadata": {},
   "outputs": [],
   "source": [
    "from sklearn.metrics import accuracy_score,classification_report,confusion_matrix\n"
   ]
  },
  {
   "cell_type": "code",
   "execution_count": 151,
   "id": "9775e8a0",
   "metadata": {},
   "outputs": [],
   "source": [
    "from sklearn.ensemble import RandomForestClassifier\n",
    "rf = RandomForestClassifier(n_estimators = 1000, random_state = 1)\n",
    "rf.fit(X_train,y_train)\n",
    "\n",
    "# pred_rf=rf.predict(X)\n",
    "\n",
    "acc = rf.score(X_train,y_train)*100"
   ]
  },
  {
   "cell_type": "code",
   "execution_count": 155,
   "id": "09b2c85f",
   "metadata": {},
   "outputs": [
    {
     "name": "stdout",
     "output_type": "stream",
     "text": [
      "Random Forest Algorithm Accuracy Score : 84.18%\n"
     ]
    }
   ],
   "source": [
    "print(\"Random Forest Algorithm Accuracy Score : {:.2f}%\".format(acc))"
   ]
  },
  {
   "cell_type": "code",
   "execution_count": 154,
   "id": "0f3d9b24",
   "metadata": {},
   "outputs": [
    {
     "name": "stdout",
     "output_type": "stream",
     "text": [
      "              precision    recall  f1-score   support\n",
      "\n",
      "           0       0.00      0.00      0.00        10\n",
      "           1       0.57      0.43      0.49        28\n",
      "           2       0.00      0.00      0.00         5\n",
      "           3       0.84      1.00      0.91        37\n",
      "\n",
      "    accuracy                           0.61        80\n",
      "   macro avg       0.35      0.36      0.35        80\n",
      "weighted avg       0.59      0.61      0.59        80\n",
      "\n"
     ]
    }
   ],
   "source": [
    "pred_rf=rf.predict(X_test)\n",
    "rf_rep=classification_report(y_test,pred_rf)\n",
    "print(rf_rep)"
   ]
  },
  {
   "cell_type": "code",
   "execution_count": 250,
   "id": "0809fdc7",
   "metadata": {},
   "outputs": [],
   "source": [
    "# pred_rf[2]\n",
    "# (y_test[2])"
   ]
  },
  {
   "cell_type": "code",
   "execution_count": 163,
   "id": "5d968ad7",
   "metadata": {},
   "outputs": [
    {
     "data": {
      "text/html": [
       "<div>\n",
       "<style scoped>\n",
       "    .dataframe tbody tr th:only-of-type {\n",
       "        vertical-align: middle;\n",
       "    }\n",
       "\n",
       "    .dataframe tbody tr th {\n",
       "        vertical-align: top;\n",
       "    }\n",
       "\n",
       "    .dataframe thead th {\n",
       "        text-align: right;\n",
       "    }\n",
       "</style>\n",
       "<table border=\"1\" class=\"dataframe\">\n",
       "  <thead>\n",
       "    <tr style=\"text-align: right;\">\n",
       "      <th></th>\n",
       "      <th>NEUTROPHIL</th>\n",
       "      <th>EOSINOPHIL</th>\n",
       "      <th>LYMPHOCYTE</th>\n",
       "      <th>MONOCYTE</th>\n",
       "    </tr>\n",
       "  </thead>\n",
       "  <tbody>\n",
       "    <tr>\n",
       "      <th>NEUTROPHIL</th>\n",
       "      <td>0</td>\n",
       "      <td>9</td>\n",
       "      <td>0</td>\n",
       "      <td>1</td>\n",
       "    </tr>\n",
       "    <tr>\n",
       "      <th>EOSINOPHIL</th>\n",
       "      <td>15</td>\n",
       "      <td>12</td>\n",
       "      <td>0</td>\n",
       "      <td>1</td>\n",
       "    </tr>\n",
       "    <tr>\n",
       "      <th>LYMPHOCYTE</th>\n",
       "      <td>0</td>\n",
       "      <td>0</td>\n",
       "      <td>0</td>\n",
       "      <td>5</td>\n",
       "    </tr>\n",
       "    <tr>\n",
       "      <th>MONOCYTE</th>\n",
       "      <td>0</td>\n",
       "      <td>0</td>\n",
       "      <td>0</td>\n",
       "      <td>37</td>\n",
       "    </tr>\n",
       "  </tbody>\n",
       "</table>\n",
       "</div>"
      ],
      "text/plain": [
       "            NEUTROPHIL  EOSINOPHIL  LYMPHOCYTE  MONOCYTE\n",
       "NEUTROPHIL           0           9           0         1\n",
       "EOSINOPHIL          15          12           0         1\n",
       "LYMPHOCYTE           0           0           0         5\n",
       "MONOCYTE             0           0           0        37"
      ]
     },
     "execution_count": 163,
     "metadata": {},
     "output_type": "execute_result"
    }
   ],
   "source": [
    "df_report = pd.DataFrame(metrics.confusion_matrix(y_test, pred_rf),columns = list(set(labl)) )\n",
    "df_report.index = set(labl)\n",
    "df_report"
   ]
  },
  {
   "cell_type": "code",
   "execution_count": 159,
   "id": "522761d5",
   "metadata": {},
   "outputs": [],
   "source": [
    "# set(labl)()"
   ]
  },
  {
   "cell_type": "code",
   "execution_count": 187,
   "id": "19b5cbbc",
   "metadata": {},
   "outputs": [],
   "source": [
    "from sklearn.ensemble import AdaBoostClassifier,GradientBoostingClassifier\n",
    "\n",
    "adf = AdaBoostClassifier(n_estimators=1000, random_state=2)\n",
    "adf.fit(X_train,y_train)\n",
    "acc = adf.score(X_train,y_train)*100"
   ]
  },
  {
   "cell_type": "code",
   "execution_count": 189,
   "id": "22cfd8de",
   "metadata": {},
   "outputs": [
    {
     "name": "stdout",
     "output_type": "stream",
     "text": [
      "Random Forest Algorithm Accuracy Score : 42.41%\n"
     ]
    }
   ],
   "source": [
    "print(\"AdaBoost Algorithm Accuracy Score : {:.2f}%\".format(acc))"
   ]
  },
  {
   "cell_type": "code",
   "execution_count": 190,
   "id": "201cd112",
   "metadata": {},
   "outputs": [
    {
     "name": "stdout",
     "output_type": "stream",
     "text": [
      "              precision    recall  f1-score   support\n",
      "\n",
      "           0       0.07      0.20      0.11        10\n",
      "           1       0.48      0.43      0.45        28\n",
      "           2       0.00      0.00      0.00         5\n",
      "           3       0.61      0.46      0.52        37\n",
      "\n",
      "    accuracy                           0.39        80\n",
      "   macro avg       0.29      0.27      0.27        80\n",
      "weighted avg       0.46      0.39      0.41        80\n",
      "\n"
     ]
    }
   ],
   "source": [
    "pred_adf=adf.predict(X_test)\n",
    "adf_rep=classification_report(y_test,pred_adf)\n",
    "print(adf_rep)"
   ]
  },
  {
   "cell_type": "code",
   "execution_count": null,
   "id": "6643c5b7",
   "metadata": {},
   "outputs": [],
   "source": []
  },
  {
   "cell_type": "code",
   "execution_count": 191,
   "id": "27e6d8c5",
   "metadata": {},
   "outputs": [],
   "source": [
    "from sklearn.tree import DecisionTreeClassifier\n"
   ]
  },
  {
   "cell_type": "code",
   "execution_count": 200,
   "id": "7236d9d5",
   "metadata": {},
   "outputs": [],
   "source": [
    "model=DecisionTreeClassifier(criterion='gini',   \n",
    "    max_depth=1000,\n",
    "    min_samples_split=2,\n",
    "    min_samples_leaf=10,)"
   ]
  },
  {
   "cell_type": "code",
   "execution_count": 244,
   "id": "c5505b20",
   "metadata": {},
   "outputs": [],
   "source": [
    "# model.fit(X_train,y_train)\n",
    "# acc = model.score(X_train,y_train)*100\n",
    "\n",
    "model.fit(hog_features,labl_enc)\n",
    "acc = model.score(hog_features,labl_enc)*100\n",
    "\n"
   ]
  },
  {
   "cell_type": "code",
   "execution_count": 245,
   "id": "7ed03364",
   "metadata": {},
   "outputs": [
    {
     "name": "stdout",
     "output_type": "stream",
     "text": [
      "Decision Tree Algorithm Accuracy Score : 75.25%\n"
     ]
    }
   ],
   "source": [
    "print(\"Decision Tree Algorithm Accuracy Score : {:.2f}%\".format(acc))"
   ]
  },
  {
   "cell_type": "code",
   "execution_count": 206,
   "id": "faba343c",
   "metadata": {},
   "outputs": [
    {
     "name": "stdout",
     "output_type": "stream",
     "text": [
      "              precision    recall  f1-score   support\n",
      "\n",
      "           0       0.29      0.60      0.39        10\n",
      "           1       0.83      0.54      0.65        28\n",
      "           2       0.75      0.60      0.67         5\n",
      "           3       0.97      0.97      0.97        37\n",
      "\n",
      "    accuracy                           0.75        80\n",
      "   macro avg       0.71      0.68      0.67        80\n",
      "weighted avg       0.82      0.75      0.77        80\n",
      "\n"
     ]
    }
   ],
   "source": [
    "pred_dt=model.predict(X_test)\n",
    "dt_rep=classification_report(y_test,pred_dt)\n",
    "print(dt_rep)"
   ]
  },
  {
   "cell_type": "markdown",
   "id": "4fb9b706",
   "metadata": {},
   "source": [
    "### For Testing "
   ]
  },
  {
   "cell_type": "code",
   "execution_count": null,
   "id": "f31188b5",
   "metadata": {},
   "outputs": [],
   "source": []
  },
  {
   "cell_type": "code",
   "execution_count": null,
   "id": "1fbe6857",
   "metadata": {},
   "outputs": [],
   "source": []
  },
  {
   "cell_type": "code",
   "execution_count": 226,
   "id": "6a940343",
   "metadata": {},
   "outputs": [
    {
     "name": "stdout",
     "output_type": "stream",
     "text": [
      "AxesImage(189.4,52.8;277.2x369.6)\n"
     ]
    }
   ],
   "source": [
    "test_data_location = r'C:\\Users\\Mizgaan Masani\\Downloads\\Image_ML\\LYMPHOCYTE\\BloodImage_00020.jpg'   #root+'/test/'\n",
    "img = cv.imread(test_data_location,cv.IMREAD_GRAYSCALE) #load at gray scale\n",
    "\n",
    "image = cv.resize(img, (60, 80),interpolation =cv.INTER_LINEAR)\n",
    "ppcr = 8\n",
    "ppcc = 8\n",
    "\n",
    "hog_images_test = []\n",
    "hog_features_test = []\n",
    "blur = cv.GaussianBlur(image,(5,5),0)\n",
    "fd_test,hog_img = hog(blur, orientations=8, pixels_per_cell=(ppcr,ppcc),cells_per_block=(2,2),block_norm= 'L2',visualize=True)\n",
    "hog_images_test.append(hog_img)\n",
    "hog_features_test.append(fd)\n",
    "hog_features_test = np.array(hog_features_test)\n",
    "# y_pred_user = rf.predict(scaler.transform(hog_features_test))\n",
    "print(plt.imshow(hog_img))\n",
    "\n",
    "\n"
   ]
  },
  {
   "cell_type": "markdown",
   "id": "b638401f",
   "metadata": {},
   "source": [
    "#### Try with different ML model for good prediction "
   ]
  },
  {
   "cell_type": "code",
   "execution_count": 253,
   "id": "7183c230",
   "metadata": {},
   "outputs": [],
   "source": [
    "y_pred_user=(adf.predict((hog_features_test)))"
   ]
  },
  {
   "cell_type": "code",
   "execution_count": 254,
   "id": "7b42ef95",
   "metadata": {},
   "outputs": [
    {
     "data": {
      "text/plain": [
       "array([0], dtype=int64)"
      ]
     },
     "execution_count": 254,
     "metadata": {},
     "output_type": "execute_result"
    }
   ],
   "source": [
    "y_pred_user"
   ]
  },
  {
   "cell_type": "code",
   "execution_count": 255,
   "id": "b0670160",
   "metadata": {},
   "outputs": [
    {
     "data": {
      "text/plain": [
       "array(['EOSINOPHIL'], dtype='<U10')"
      ]
     },
     "execution_count": 255,
     "metadata": {},
     "output_type": "execute_result"
    }
   ],
   "source": [
    "le.inverse_transform( adf.predict(hog_features_test))"
   ]
  },
  {
   "cell_type": "code",
   "execution_count": null,
   "id": "58c00706",
   "metadata": {},
   "outputs": [],
   "source": []
  },
  {
   "cell_type": "code",
   "execution_count": null,
   "id": "7de22d41",
   "metadata": {},
   "outputs": [],
   "source": []
  }
 ],
 "metadata": {
  "kernelspec": {
   "display_name": "Python 3 (ipykernel)",
   "language": "python",
   "name": "python3"
  },
  "language_info": {
   "codemirror_mode": {
    "name": "ipython",
    "version": 3
   },
   "file_extension": ".py",
   "mimetype": "text/x-python",
   "name": "python",
   "nbconvert_exporter": "python",
   "pygments_lexer": "ipython3",
   "version": "3.7.9"
  }
 },
 "nbformat": 4,
 "nbformat_minor": 5
}
